{
 "cells": [
  {
   "cell_type": "code",
   "execution_count": 53,
   "id": "04f368fe",
   "metadata": {},
   "outputs": [
    {
     "name": "stdout",
     "output_type": "stream",
     "text": [
      "2025-04-28 20:04:23\n"
     ]
    }
   ],
   "source": [
    "from datetime import date ,time, datetime \n",
    "\n",
    "d =datetime(2025, 4, 28, 20,4,23)\n",
    "print(d)"
   ]
  },
  {
   "cell_type": "code",
   "execution_count": 54,
   "id": "ddc1bf8d",
   "metadata": {},
   "outputs": [
    {
     "name": "stdout",
     "output_type": "stream",
     "text": [
      "2025-04-28\n"
     ]
    }
   ],
   "source": [
    "\n",
    "data = date(2025, 4, 28)\n",
    "print(data)"
   ]
  },
  {
   "cell_type": "code",
   "execution_count": 55,
   "id": "f034e278",
   "metadata": {},
   "outputs": [
    {
     "name": "stdout",
     "output_type": "stream",
     "text": [
      "2025-04-28\n"
     ]
    }
   ],
   "source": [
    "print(date.today())"
   ]
  },
  {
   "cell_type": "code",
   "execution_count": 56,
   "id": "356af9bb",
   "metadata": {},
   "outputs": [
    {
     "name": "stdout",
     "output_type": "stream",
     "text": [
      "2025-04-28\n",
      "2025-04-28\n",
      "10:20:02\n"
     ]
    }
   ],
   "source": [
    "data_hora = date(2025, 4, 28)\n",
    "print(data_hora)\n",
    "print(date.today())\n",
    "hora = time(10, 20, 2)\n",
    "print(hora)"
   ]
  },
  {
   "cell_type": "markdown",
   "id": "f6ff0dff",
   "metadata": {},
   "source": [
    "## TimeDelta"
   ]
  },
  {
   "cell_type": "code",
   "execution_count": 79,
   "id": "f50fc5a0",
   "metadata": {},
   "outputs": [
    {
     "name": "stdout",
     "output_type": "stream",
     "text": [
      " o tamanho do veiculo é g !!\n",
      "O carro chegou: 2025-04-28 22:36:47.910979 e ficará pronto ás 2025-04-28 23:36:47.910979 \n"
     ]
    }
   ],
   "source": [
    "from datetime import timedelta, datetime, date, time\n",
    "\n",
    "\n",
    "tempo_pequeno = 30\n",
    "tempo_grande = 60\n",
    "tempo_medio = 45  \n",
    "data_atual =datetime.now()\n",
    "#data_atual =datetime.today()\n",
    "#data_atual =datetime.utcnow()\n",
    "\n",
    "tipo_carro = input( \"Qual  é o tamanho do veiculo  ? (P para pequeno, M para médio, G para grande): \") # \"P\", \"M\", \"G\"\n",
    "\n",
    "print(f' o tamanho do veiculo é {tipo_carro} !!')\n",
    "if tipo_carro == 'P':\n",
    "    data_estimada = data_atual + timedelta(minutes= tempo_pequeno)\n",
    "    print(f'O carro chegou: {data_atual} e ficará pronto ás {data_estimada} ')\n",
    "    \n",
    "elif tipo_carro == 'M':\n",
    "      data_estimada = data_atual + timedelta(minutes= tempo_medio)\n",
    "      print(f'O carro chegou: {data_atual} e ficará pronto ás {data_estimada} ')\n",
    "\n",
    "else :\n",
    "    data_estimada = data_atual + timedelta(minutes= tempo_grande)\n",
    "    print(f'O carro chegou: {data_atual} e ficará pronto ás {data_estimada} ')"
   ]
  },
  {
   "cell_type": "code",
   "execution_count": 78,
   "id": "2c305f0c",
   "metadata": {},
   "outputs": [
    {
     "name": "stdout",
     "output_type": "stream",
     "text": [
      "Tamanho do veículo inválido. Por favor, insira P, M ou G.\n"
     ]
    }
   ],
   "source": [
    "tipo_carro = input(\"Qual é o tamanho do veículo? (P para pequeno, M para médio, G para grande): \")\n",
    "\n",
    "if tipo_carro == 'P':\n",
    "    data_estimada = data_atual + timedelta(minutes=tempo_pequeno)\n",
    "    print(f'O carro chegou: {data_atual} e ficará pronto às {data_estimada}')\n",
    "    \n",
    "elif tipo_carro == 'M':\n",
    "    data_estimada = data_atual + timedelta(minutes=tempo_medio)\n",
    "    print(f'O carro chegou: {data_atual} e ficará pronto às {data_estimada}')\n",
    "\n",
    "elif tipo_carro == 'G':\n",
    "    data_estimada = data_atual + timedelta(minutes=tempo_grande)\n",
    "    print(f'O carro chegou: {data_atual} e ficará pronto às {data_estimada}')\n",
    "\n",
    "else:\n",
    "    print(\"Tamanho do veículo inválido. Por favor, insira P, M ou G.\")"
   ]
  },
  {
   "cell_type": "code",
   "execution_count": 81,
   "id": "223e7525",
   "metadata": {},
   "outputs": [
    {
     "name": "stdout",
     "output_type": "stream",
     "text": [
      "2025-04-23\n"
     ]
    }
   ],
   "source": [
    "print (date.today() - timedelta  (days=5)) # 5 dias atrás"
   ]
  },
  {
   "cell_type": "code",
   "execution_count": 88,
   "id": "c8148244",
   "metadata": {},
   "outputs": [
    {
     "name": "stdout",
     "output_type": "stream",
     "text": [
      "08:19:20\n",
      "2025-04-28\n"
     ]
    }
   ],
   "source": [
    "resultado = datetime(2025, 4, 10, 10, 19, 20) - timedelta(hours=2)\n",
    "print(resultado.time())\n",
    "print(datetime.now() .date())"
   ]
  }
 ],
 "metadata": {
  "kernelspec": {
   "display_name": "Python 3",
   "language": "python",
   "name": "python3"
  },
  "language_info": {
   "codemirror_mode": {
    "name": "ipython",
    "version": 3
   },
   "file_extension": ".py",
   "mimetype": "text/x-python",
   "name": "python",
   "nbconvert_exporter": "python",
   "pygments_lexer": "ipython3",
   "version": "3.13.3"
  }
 },
 "nbformat": 4,
 "nbformat_minor": 5
}
